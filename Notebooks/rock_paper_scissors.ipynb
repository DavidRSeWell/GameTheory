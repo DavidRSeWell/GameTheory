{
 "cells": [
  {
   "cell_type": "code",
   "execution_count": 1,
   "metadata": {
    "collapsed": true
   },
   "outputs": [],
   "source": [
    "import numpy as np"
   ]
  },
  {
   "cell_type": "code",
   "execution_count": 35,
   "metadata": {
    "collapsed": true
   },
   "outputs": [],
   "source": [
    "player_strat1 = {\"rock\":1.0,\"paper\":0.0,\"scissors\":0.0}\n",
    "player_strat2 = {\"rock\":0.0,\"paper\":0.0,\"scissors\":1.0}"
   ]
  },
  {
   "cell_type": "code",
   "execution_count": 61,
   "metadata": {
    "collapsed": false
   },
   "outputs": [],
   "source": [
    "def get_max_ev(range1,range2):\n",
    "    \n",
    "    max_ev = -1\n",
    "    \n",
    "    max_action = None\n",
    "    \n",
    "    for action_hero in range1.keys():\n",
    "            \n",
    "        if action_hero == \"rock\":\n",
    "\n",
    "            curr_max_ev = range2[\"scissors\"]\n",
    "            \n",
    "            if curr_max_ev > max_ev:\n",
    "                \n",
    "                max_ev = curr_max_ev\n",
    "                \n",
    "                max_action = \"rock\"\n",
    "                \n",
    "        elif action_hero == \"paper\":\n",
    "\n",
    "            curr_max_ev = range2[\"rock\"]\n",
    "            \n",
    "            if curr_max_ev > max_ev:\n",
    "                \n",
    "                max_ev = curr_max_ev\n",
    "                \n",
    "                max_action = \"paper\"\n",
    "\n",
    "        else: #scissors\n",
    "            curr_max_ev = range2[\"paper\"]\n",
    "            \n",
    "            if curr_max_ev > max_ev:\n",
    "                \n",
    "                max_ev = curr_max_ev\n",
    "                \n",
    "                max_action = \"scissors\"\n",
    "                \n",
    "    return max_action"
   ]
  },
  {
   "cell_type": "code",
   "execution_count": 70,
   "metadata": {
    "collapsed": false
   },
   "outputs": [],
   "source": [
    "def update_range(range_hero,max_play,n):\n",
    "    \n",
    "    fraction = 1 - 1 / (n + 2)\n",
    "    \n",
    "    for action in range_hero.keys():\n",
    "        \n",
    "        if action == max_play:\n",
    "            \n",
    "            range_hero[action] = range_hero[max_play]*(fraction) + (1 - fraction)\n",
    "            \n",
    "        else:\n",
    "            range_hero[action] = range_hero[action]*(fraction)\n",
    "            \n",
    "    return fraction"
   ]
  },
  {
   "cell_type": "code",
   "execution_count": 68,
   "metadata": {
    "collapsed": true
   },
   "outputs": [],
   "source": [
    "def FictitiousPlay(n_iterations):\n",
    "    \n",
    "    p1 = {\"rock\":1.0,\"paper\":0.0,\"scissors\":0.0}\n",
    "    \n",
    "    p2 = {\"rock\":0.0,\"paper\":0.0,\"scissors\":1.0}\n",
    "    \n",
    "    for n in range(n_iterations):\n",
    "        \n",
    "        player_1_max = get_max_ev(p1,p2)\n",
    "        \n",
    "        p1[player_1_max] = p1[player_1_max]*(fraction) + (1 - fraction)\n",
    "        \n",
    "        player_2_max = get_max_ev(p2,p1)\n",
    "        \n",
    "        p2[player_2_max] = p2[player_2_max]*(fraction) + (1 - fraction)\n",
    "        \n",
    "        \n",
    "    return p1,p2"
   ]
  },
  {
   "cell_type": "code",
   "execution_count": 66,
   "metadata": {
    "collapsed": false
   },
   "outputs": [],
   "source": [
    "nash_equilibrium = FictitiousPlay(20)"
   ]
  },
  {
   "cell_type": "code",
   "execution_count": 67,
   "metadata": {
    "collapsed": false
   },
   "outputs": [
    {
     "data": {
      "text/plain": [
       "({'paper': 0.0, 'rock': 1.0, 'scissors': 0.0},\n",
       " {'paper': 0.0, 'rock': 0.0, 'scissors': 1.0})"
      ]
     },
     "execution_count": 67,
     "metadata": {},
     "output_type": "execute_result"
    }
   ],
   "source": [
    "nash_equilibrium"
   ]
  },
  {
   "cell_type": "code",
   "execution_count": null,
   "metadata": {
    "collapsed": true
   },
   "outputs": [],
   "source": [
    ""
   ]
  }
 ],
 "metadata": {
  "kernelspec": {
   "display_name": "Python [Root]",
   "language": "python",
   "name": "Python [Root]"
  },
  "language_info": {
   "codemirror_mode": {
    "name": "ipython",
    "version": 2.0
   },
   "file_extension": ".py",
   "mimetype": "text/x-python",
   "name": "python",
   "nbconvert_exporter": "python",
   "pygments_lexer": "ipython2",
   "version": "2.7.12"
  }
 },
 "nbformat": 4,
 "nbformat_minor": 0
}